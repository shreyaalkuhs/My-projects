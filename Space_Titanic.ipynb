{
 "cells": [
  {
   "cell_type": "code",
   "execution_count": 1,
   "id": "94d6e29b",
   "metadata": {
    "_cell_guid": "b1076dfc-b9ad-4769-8c92-a6c4dae69d19",
    "_uuid": "8f2839f25d086af736a60e9eeb907d3b93b6e0e5",
    "execution": {
     "iopub.execute_input": "2023-01-12T17:40:11.508962Z",
     "iopub.status.busy": "2023-01-12T17:40:11.508086Z",
     "iopub.status.idle": "2023-01-12T17:40:11.522515Z",
     "shell.execute_reply": "2023-01-12T17:40:11.521125Z"
    },
    "papermill": {
     "duration": 0.027998,
     "end_time": "2023-01-12T17:40:11.527511",
     "exception": false,
     "start_time": "2023-01-12T17:40:11.499513",
     "status": "completed"
    },
    "tags": []
   },
   "outputs": [
    {
     "name": "stdout",
     "output_type": "stream",
     "text": [
      "/kaggle/input/spaceship-titanic/sample_submission.csv\n",
      "/kaggle/input/spaceship-titanic/train.csv\n",
      "/kaggle/input/spaceship-titanic/test.csv\n"
     ]
    }
   ],
   "source": [
    "# This Python 3 environment comes with many helpful analytics libraries installed\n",
    "# It is defined by the kaggle/python Docker image: https://github.com/kaggle/docker-python\n",
    "# For example, here's several helpful packages to load\n",
    "\n",
    "import numpy as np # linear algebra\n",
    "import pandas as pd # data processing, CSV file I/O (e.g. pd.read_csv)\n",
    "# Input data files are available in the read-only \"../input/\" directory\n",
    "# For example, running this (by clicking run or pressing Shift+Enter) will list all files under the input directory\n",
    "\n",
    "import os\n",
    "for dirname, _, filenames in os.walk('/kaggle/input'):\n",
    "    for filename in filenames:\n",
    "        print(os.path.join(dirname, filename))\n",
    "\n",
    "# You can write up to 20GB to the current directory (/kaggle/working/) that gets preserved as output when you create a version using \"Save & Run All\" \n",
    "# You can also write temporary files to /kaggle/temp/, but they won't be saved outside of the current session"
   ]
  },
  {
   "cell_type": "code",
   "execution_count": 2,
   "id": "8130348a",
   "metadata": {
    "execution": {
     "iopub.execute_input": "2023-01-12T17:40:11.541308Z",
     "iopub.status.busy": "2023-01-12T17:40:11.540475Z",
     "iopub.status.idle": "2023-01-12T17:40:12.851651Z",
     "shell.execute_reply": "2023-01-12T17:40:12.850576Z"
    },
    "papermill": {
     "duration": 1.320819,
     "end_time": "2023-01-12T17:40:12.854775",
     "exception": false,
     "start_time": "2023-01-12T17:40:11.533956",
     "status": "completed"
    },
    "tags": []
   },
   "outputs": [],
   "source": [
    "from sklearn.model_selection import train_test_split\n",
    "\n",
    "X_old = pd.read_csv('/kaggle/input/spaceship-titanic/train.csv')\n",
    "X_test = pd.read_csv('/kaggle/input/spaceship-titanic/test.csv')"
   ]
  },
  {
   "cell_type": "code",
   "execution_count": 3,
   "id": "47bc016e",
   "metadata": {
    "execution": {
     "iopub.execute_input": "2023-01-12T17:40:12.869022Z",
     "iopub.status.busy": "2023-01-12T17:40:12.868047Z",
     "iopub.status.idle": "2023-01-12T17:40:12.891819Z",
     "shell.execute_reply": "2023-01-12T17:40:12.890561Z"
    },
    "papermill": {
     "duration": 0.033988,
     "end_time": "2023-01-12T17:40:12.895377",
     "exception": false,
     "start_time": "2023-01-12T17:40:12.861389",
     "status": "completed"
    },
    "tags": []
   },
   "outputs": [],
   "source": [
    "X = X_old.drop(['Name','Cabin'],axis = 1)\n",
    "X_test = X_test.drop(['Name','Cabin'],axis = 1)\n",
    "y = X.Transported"
   ]
  },
  {
   "cell_type": "code",
   "execution_count": 4,
   "id": "87790ab3",
   "metadata": {
    "execution": {
     "iopub.execute_input": "2023-01-12T17:40:12.908733Z",
     "iopub.status.busy": "2023-01-12T17:40:12.908011Z",
     "iopub.status.idle": "2023-01-12T17:40:12.923524Z",
     "shell.execute_reply": "2023-01-12T17:40:12.921939Z"
    },
    "papermill": {
     "duration": 0.026813,
     "end_time": "2023-01-12T17:40:12.927050",
     "exception": false,
     "start_time": "2023-01-12T17:40:12.900237",
     "status": "completed"
    },
    "tags": []
   },
   "outputs": [],
   "source": [
    "X.drop(['Transported'], axis=1, inplace=True)\n",
    "X_train, X_valid, y_train, y_valid = train_test_split(X, y,\n",
    "                                                      train_size=0.7, test_size=0.3,\n",
    "                                                      random_state=0)"
   ]
  },
  {
   "cell_type": "code",
   "execution_count": 5,
   "id": "6db0d446",
   "metadata": {
    "execution": {
     "iopub.execute_input": "2023-01-12T17:40:12.938480Z",
     "iopub.status.busy": "2023-01-12T17:40:12.937952Z",
     "iopub.status.idle": "2023-01-12T17:40:12.951405Z",
     "shell.execute_reply": "2023-01-12T17:40:12.949965Z"
    },
    "papermill": {
     "duration": 0.022783,
     "end_time": "2023-01-12T17:40:12.954324",
     "exception": false,
     "start_time": "2023-01-12T17:40:12.931541",
     "status": "completed"
    },
    "tags": []
   },
   "outputs": [
    {
     "data": {
      "text/plain": [
       "7289    False\n",
       "2709     True\n",
       "6803    False\n",
       "3731     True\n",
       "6333    False\n",
       "        ...  \n",
       "4373     True\n",
       "7891    False\n",
       "4859    False\n",
       "3264    False\n",
       "2732    False\n",
       "Name: Transported, Length: 6085, dtype: bool"
      ]
     },
     "execution_count": 5,
     "metadata": {},
     "output_type": "execute_result"
    }
   ],
   "source": [
    "y_train"
   ]
  },
  {
   "cell_type": "code",
   "execution_count": 6,
   "id": "b3f28d08",
   "metadata": {
    "execution": {
     "iopub.execute_input": "2023-01-12T17:40:12.965641Z",
     "iopub.status.busy": "2023-01-12T17:40:12.964848Z",
     "iopub.status.idle": "2023-01-12T17:40:12.972440Z",
     "shell.execute_reply": "2023-01-12T17:40:12.970261Z"
    },
    "papermill": {
     "duration": 0.016622,
     "end_time": "2023-01-12T17:40:12.975318",
     "exception": false,
     "start_time": "2023-01-12T17:40:12.958696",
     "status": "completed"
    },
    "tags": []
   },
   "outputs": [],
   "source": [
    "object_cols = ['PassengerId', 'HomePlanet', 'CryoSleep', 'Destination', 'VIP']"
   ]
  },
  {
   "cell_type": "code",
   "execution_count": 7,
   "id": "5118efbf",
   "metadata": {
    "execution": {
     "iopub.execute_input": "2023-01-12T17:40:12.988632Z",
     "iopub.status.busy": "2023-01-12T17:40:12.987045Z",
     "iopub.status.idle": "2023-01-12T17:40:13.259220Z",
     "shell.execute_reply": "2023-01-12T17:40:13.257455Z"
    },
    "papermill": {
     "duration": 0.281895,
     "end_time": "2023-01-12T17:40:13.262174",
     "exception": false,
     "start_time": "2023-01-12T17:40:12.980279",
     "status": "completed"
    },
    "tags": []
   },
   "outputs": [],
   "source": [
    "from sklearn.ensemble import RandomForestRegressor\n",
    "from sklearn.metrics import mean_absolute_error\n",
    "\n",
    "# function for comparing different approaches\n",
    "def score_dataset(X_train, X_valid, y_train, y_valid):\n",
    "    model = RandomForestRegressor(n_estimators=100, random_state=0)\n",
    "    model.fit(X_train, y_train)\n",
    "    preds = model.predict(X_valid)\n",
    "    return mean_absolute_error(y_valid, preds)"
   ]
  },
  {
   "cell_type": "code",
   "execution_count": 8,
   "id": "78d6ff66",
   "metadata": {
    "execution": {
     "iopub.execute_input": "2023-01-12T17:40:13.273389Z",
     "iopub.status.busy": "2023-01-12T17:40:13.272950Z",
     "iopub.status.idle": "2023-01-12T17:40:13.286319Z",
     "shell.execute_reply": "2023-01-12T17:40:13.284351Z"
    },
    "papermill": {
     "duration": 0.022718,
     "end_time": "2023-01-12T17:40:13.289346",
     "exception": false,
     "start_time": "2023-01-12T17:40:13.266628",
     "status": "completed"
    },
    "tags": []
   },
   "outputs": [
    {
     "name": "stdout",
     "output_type": "stream",
     "text": [
      "Categorical columns that will be one-hot encoded: ['HomePlanet', 'CryoSleep', 'Destination', 'VIP']\n"
     ]
    }
   ],
   "source": [
    "low_cardinality_cols = [col for col in object_cols if X_train[col].nunique() < 10]\n",
    "print('Categorical columns that will be one-hot encoded:', low_cardinality_cols)"
   ]
  },
  {
   "cell_type": "code",
   "execution_count": 9,
   "id": "c04b4ed6",
   "metadata": {
    "execution": {
     "iopub.execute_input": "2023-01-12T17:40:13.301089Z",
     "iopub.status.busy": "2023-01-12T17:40:13.300691Z",
     "iopub.status.idle": "2023-01-12T17:40:13.344641Z",
     "shell.execute_reply": "2023-01-12T17:40:13.342956Z"
    },
    "papermill": {
     "duration": 0.053932,
     "end_time": "2023-01-12T17:40:13.348054",
     "exception": false,
     "start_time": "2023-01-12T17:40:13.294122",
     "status": "completed"
    },
    "tags": []
   },
   "outputs": [],
   "source": [
    "from sklearn.preprocessing import OneHotEncoder\n",
    "OH_encoder = OneHotEncoder(handle_unknown='ignore', sparse=False)\n",
    "OH_cols_train =  pd.DataFrame(OH_encoder.fit_transform(X_train[low_cardinality_cols]))\n",
    "OH_cols_valid = pd.DataFrame(OH_encoder.transform(X_valid[low_cardinality_cols])) # Your code here\n",
    "OH_cols_test = pd.DataFrame(OH_encoder.transform(X_test[low_cardinality_cols]))\n",
    "\n",
    "OH_cols_train.index = X_train.index\n",
    "OH_cols_valid.index = X_valid.index\n",
    "OH_cols_test.index = X_test.index\n",
    "\n",
    "\n",
    "num_X_train = X_train.drop(object_cols, axis=1)\n",
    "num_X_valid = X_valid.drop(object_cols, axis=1)\n",
    "num_X_test = X_test.drop(object_cols, axis=1)\n",
    "\n",
    "\n",
    "OH_X_train = pd.concat([num_X_train, OH_cols_train], axis=1)\n",
    "OH_X_valid = pd.concat([num_X_valid, OH_cols_valid], axis=1)\n",
    "OH_X_test = pd.concat([num_X_test, OH_cols_test], axis=1)"
   ]
  },
  {
   "cell_type": "code",
   "execution_count": 10,
   "id": "72108b12",
   "metadata": {
    "execution": {
     "iopub.execute_input": "2023-01-12T17:40:13.359704Z",
     "iopub.status.busy": "2023-01-12T17:40:13.359265Z",
     "iopub.status.idle": "2023-01-12T17:40:13.393833Z",
     "shell.execute_reply": "2023-01-12T17:40:13.392327Z"
    },
    "papermill": {
     "duration": 0.045973,
     "end_time": "2023-01-12T17:40:13.398877",
     "exception": false,
     "start_time": "2023-01-12T17:40:13.352904",
     "status": "completed"
    },
    "tags": []
   },
   "outputs": [
    {
     "name": "stderr",
     "output_type": "stream",
     "text": [
      "/opt/conda/lib/python3.7/site-packages/sklearn/utils/validation.py:1692: FutureWarning: Feature names only support names that are all strings. Got feature names with dtypes: ['int', 'str']. An error will be raised in 1.2.\n",
      "  FutureWarning,\n",
      "/opt/conda/lib/python3.7/site-packages/sklearn/utils/validation.py:1692: FutureWarning: Feature names only support names that are all strings. Got feature names with dtypes: ['int', 'str']. An error will be raised in 1.2.\n",
      "  FutureWarning,\n",
      "/opt/conda/lib/python3.7/site-packages/sklearn/utils/validation.py:1692: FutureWarning: Feature names only support names that are all strings. Got feature names with dtypes: ['int', 'str']. An error will be raised in 1.2.\n",
      "  FutureWarning,\n",
      "/opt/conda/lib/python3.7/site-packages/sklearn/utils/validation.py:1692: FutureWarning: Feature names only support names that are all strings. Got feature names with dtypes: ['int', 'str']. An error will be raised in 1.2.\n",
      "  FutureWarning,\n"
     ]
    }
   ],
   "source": [
    "from sklearn.impute import SimpleImputer\n",
    "\n",
    "# Imputation\n",
    "my_imputer = SimpleImputer()\n",
    "imputed_X_train = pd.DataFrame(my_imputer.fit_transform(OH_X_train))\n",
    "imputed_X_valid = pd.DataFrame(my_imputer.transform(OH_X_valid))\n",
    "imputed_X_test = pd.DataFrame(my_imputer.transform(OH_X_test))\n",
    "\n",
    "\n",
    "# Imputation removed column names; put them back\n",
    "imputed_X_train.columns = OH_X_train.columns\n",
    "imputed_X_valid.columns = OH_X_valid.columns\n",
    "imputed_X_test.columns = OH_X_valid.columns"
   ]
  },
  {
   "cell_type": "code",
   "execution_count": 11,
   "id": "eff25fd3",
   "metadata": {
    "execution": {
     "iopub.execute_input": "2023-01-12T17:40:13.410892Z",
     "iopub.status.busy": "2023-01-12T17:40:13.410383Z",
     "iopub.status.idle": "2023-01-12T17:40:17.166002Z",
     "shell.execute_reply": "2023-01-12T17:40:17.164831Z"
    },
    "papermill": {
     "duration": 3.764954,
     "end_time": "2023-01-12T17:40:17.168862",
     "exception": false,
     "start_time": "2023-01-12T17:40:13.403908",
     "status": "completed"
    },
    "tags": []
   },
   "outputs": [],
   "source": [
    "from xgboost import XGBRegressor\n",
    "from sklearn.metrics import mean_absolute_error\n",
    "\n",
    "my_model = XGBRegressor(n_estimators = 500,learning_rate = 0.015)\n",
    "my_model.fit(imputed_X_train,y_train)\n",
    "y_new = my_model.predict(imputed_X_valid)\n",
    "y_new_test = my_model.predict(imputed_X_test)\n",
    "y_new_new = [(y>=0.5) for y in y_new_test]"
   ]
  },
  {
   "cell_type": "code",
   "execution_count": 12,
   "id": "aca22f8d",
   "metadata": {
    "execution": {
     "iopub.execute_input": "2023-01-12T17:40:17.181012Z",
     "iopub.status.busy": "2023-01-12T17:40:17.180295Z",
     "iopub.status.idle": "2023-01-12T17:40:17.198930Z",
     "shell.execute_reply": "2023-01-12T17:40:17.197946Z"
    },
    "papermill": {
     "duration": 0.027513,
     "end_time": "2023-01-12T17:40:17.201604",
     "exception": false,
     "start_time": "2023-01-12T17:40:17.174091",
     "status": "completed"
    },
    "tags": []
   },
   "outputs": [],
   "source": [
    "X_sub = X_test.drop(['HomePlanet', 'CryoSleep', 'Destination', 'Age', 'VIP',\n",
    "       'RoomService', 'FoodCourt', 'ShoppingMall', 'Spa', 'VRDeck'], axis = 1)\n",
    "X_sub[\"Transported\"] = y_new_new\n",
    "X_sub\n",
    "df = pd.DataFrame(X_sub)\n",
    "df.to_csv('submission_3o7.csv',index=False)"
   ]
  },
  {
   "cell_type": "code",
   "execution_count": null,
   "id": "f03d9f5f",
   "metadata": {
    "papermill": {
     "duration": 0.004105,
     "end_time": "2023-01-12T17:40:17.210229",
     "exception": false,
     "start_time": "2023-01-12T17:40:17.206124",
     "status": "completed"
    },
    "tags": []
   },
   "outputs": [],
   "source": []
  }
 ],
 "metadata": {
  "kernelspec": {
   "display_name": "Python 3",
   "language": "python",
   "name": "python3"
  },
  "language_info": {
   "codemirror_mode": {
    "name": "ipython",
    "version": 3
   },
   "file_extension": ".py",
   "mimetype": "text/x-python",
   "name": "python",
   "nbconvert_exporter": "python",
   "pygments_lexer": "ipython3",
   "version": "3.7.12"
  },
  "papermill": {
   "default_parameters": {},
   "duration": 17.94334,
   "end_time": "2023-01-12T17:40:18.039368",
   "environment_variables": {},
   "exception": null,
   "input_path": "__notebook__.ipynb",
   "output_path": "__notebook__.ipynb",
   "parameters": {},
   "start_time": "2023-01-12T17:40:00.096028",
   "version": "2.3.4"
  }
 },
 "nbformat": 4,
 "nbformat_minor": 5
}
